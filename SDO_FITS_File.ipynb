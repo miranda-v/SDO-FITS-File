{
 "cells": [
  {
   "cell_type": "code",
   "execution_count": 1,
   "metadata": {
    "collapsed": true
   },
   "outputs": [],
   "source": [
    "import astropy\n",
    "from astropy.io import fits"
   ]
  },
  {
   "cell_type": "code",
   "execution_count": 3,
   "metadata": {
    "collapsed": true
   },
   "outputs": [],
   "source": [
    "file=fits.open('/users/mirandaviederman/Downloads/AIA20180102_0000_0094.fits')"
   ]
  },
  {
   "cell_type": "code",
   "execution_count": 7,
   "metadata": {},
   "outputs": [
    {
     "name": "stdout",
     "output_type": "stream",
     "text": [
      "Filename: /users/mirandaviederman/Downloads/AIA20180102_0000_0094.fits\n",
      "No.    Name      Ver    Type      Cards   Dimensions   Format\n",
      "  0  PRIMARY       1 PrimaryHDU       6   ()      \n",
      "  1                1 CompImageHDU    171   (1024, 1024)   int32   \n"
     ]
    }
   ],
   "source": [
    "file.info()"
   ]
  },
  {
   "cell_type": "code",
   "execution_count": 14,
   "metadata": {},
   "outputs": [
    {
     "data": {
      "text/plain": [
       "SIMPLE  =                    T / file does conform to FITS standard             \n",
       "BITPIX  =                   16 / number of bits per data pixel                  \n",
       "NAXIS   =                    0 / number of data axes                            \n",
       "EXTEND  =                    T / FITS dataset may contain extensions            \n",
       "COMMENT   FITS (Flexible Image Transport System) format is defined in 'Astronomy\n",
       "COMMENT   and Astrophysics', volume 376, page 359; bibcode: 2001A&A...376..359H "
      ]
     },
     "execution_count": 14,
     "metadata": {},
     "output_type": "execute_result"
    }
   ],
   "source": [
    "file[0].header"
   ]
  },
  {
   "cell_type": "code",
   "execution_count": 16,
   "metadata": {
    "scrolled": true
   },
   "outputs": [
    {
     "data": {
      "text/plain": [
       "['DEPRECATED_KWARGS',\n",
       " '_EXCLUDE',\n",
       " '_MASK',\n",
       " '__class__',\n",
       " '__delattr__',\n",
       " '__dict__',\n",
       " '__dir__',\n",
       " '__doc__',\n",
       " '__eq__',\n",
       " '__format__',\n",
       " '__ge__',\n",
       " '__getattribute__',\n",
       " '__gt__',\n",
       " '__hash__',\n",
       " '__init__',\n",
       " '__init_subclass__',\n",
       " '__le__',\n",
       " '__lt__',\n",
       " '__module__',\n",
       " '__ne__',\n",
       " '__new__',\n",
       " '__reduce__',\n",
       " '__reduce_ex__',\n",
       " '__repr__',\n",
       " '__setattr__',\n",
       " '__sizeof__',\n",
       " '__str__',\n",
       " '__subclasshook__',\n",
       " '__weakref__',\n",
       " '_axes',\n",
       " '_bitpix',\n",
       " '_bscale',\n",
       " '_buffer',\n",
       " '_bzero',\n",
       " '_calculate_checksum',\n",
       " '_calculate_datasum',\n",
       " '_calculate_datasum_with_heap',\n",
       " '_char_encode',\n",
       " '_clear_table_keywords',\n",
       " '_close',\n",
       " '_columns_type',\n",
       " '_compute_checksum',\n",
       " '_compute_hdu_checksum',\n",
       " '_data_loaded',\n",
       " '_data_needs_rescale',\n",
       " '_data_offset',\n",
       " '_data_replaced',\n",
       " '_data_size',\n",
       " '_data_type',\n",
       " '_default_name',\n",
       " '_do_not_scale_image_data',\n",
       " '_dtype_for_bitpix',\n",
       " '_dump_coldefs',\n",
       " '_dump_data',\n",
       " '_encode_byte',\n",
       " '_ext_comment',\n",
       " '_extension',\n",
       " '_file',\n",
       " '_generate_dither_seed',\n",
       " '_get_raw_data',\n",
       " '_get_tbdata',\n",
       " '_get_timestamp',\n",
       " '_has_data',\n",
       " '_hdu_registry',\n",
       " '_header',\n",
       " '_header_offset',\n",
       " '_image_header',\n",
       " '_init_tbdata',\n",
       " '_load_coldefs',\n",
       " '_load_data',\n",
       " '_manages_own_heap',\n",
       " '_new',\n",
       " '_nrows',\n",
       " '_orig_bitpix',\n",
       " '_orig_bscale',\n",
       " '_orig_bzero',\n",
       " '_output_checksum',\n",
       " '_padding_byte',\n",
       " '_populate_table_keywords',\n",
       " '_postwriteto',\n",
       " '_prewriteto',\n",
       " '_readfrom_internal',\n",
       " '_scale_back',\n",
       " '_standard',\n",
       " '_summary',\n",
       " '_tdump_file_format',\n",
       " '_theap',\n",
       " '_uint',\n",
       " '_update_checksum',\n",
       " '_update_column_added',\n",
       " '_update_column_attribute_changed',\n",
       " '_update_column_removed',\n",
       " '_update_compressed_data',\n",
       " '_update_header_data',\n",
       " '_update_header_scale_info',\n",
       " '_update_uint_scale_keywords',\n",
       " '_verify',\n",
       " '_verify_checksum_datasum',\n",
       " '_writedata',\n",
       " '_writedata_by_row',\n",
       " '_writedata_direct_copy',\n",
       " '_writedata_internal',\n",
       " '_writeheader',\n",
       " '_writeto',\n",
       " '_writeto_internal',\n",
       " 'add_checksum',\n",
       " 'add_datasum',\n",
       " 'columns',\n",
       " 'compressed_data',\n",
       " 'copy',\n",
       " 'data',\n",
       " 'dump',\n",
       " 'filebytes',\n",
       " 'fileinfo',\n",
       " 'from_columns',\n",
       " 'fromstring',\n",
       " 'header',\n",
       " 'is_image',\n",
       " 'level',\n",
       " 'load',\n",
       " 'match_header',\n",
       " 'name',\n",
       " 'readfrom',\n",
       " 'register_hdu',\n",
       " 'req_cards',\n",
       " 'run_option',\n",
       " 'scale',\n",
       " 'shape',\n",
       " 'size',\n",
       " 'unregister_hdu',\n",
       " 'update',\n",
       " 'ver',\n",
       " 'verify',\n",
       " 'verify_checksum',\n",
       " 'verify_datasum',\n",
       " 'writeto']"
      ]
     },
     "execution_count": 16,
     "metadata": {},
     "output_type": "execute_result"
    }
   ],
   "source": [
    "dir(file[1])"
   ]
  },
  {
   "cell_type": "code",
   "execution_count": 30,
   "metadata": {},
   "outputs": [
    {
     "data": {
      "text/plain": [
       "array([[ 0.5625, -0.0625, -0.3125, ..., -1.    , -1.    , -1.    ],\n",
       "       [ 0.5625, -0.0625, -0.3125, ..., -1.    , -1.    , -1.    ],\n",
       "       [ 0.5625,  0.    , -0.3125, ..., -1.    , -1.    , -1.    ],\n",
       "       ..., \n",
       "       [-0.25  ,  0.125 ,  0.1875, ..., -0.75  , -0.75  , -0.75  ],\n",
       "       [-0.4375, -0.4375,  0.0625, ..., -0.6875, -0.6875, -0.6875],\n",
       "       [ 0.5625, -0.25  ,  0.0625, ..., -0.5625, -0.5625, -0.5625]])"
      ]
     },
     "execution_count": 30,
     "metadata": {},
     "output_type": "execute_result"
    }
   ],
   "source": [
    "file[1].data"
   ]
  },
  {
   "cell_type": "code",
   "execution_count": 31,
   "metadata": {
    "scrolled": true
   },
   "outputs": [
    {
     "data": {
      "text/plain": [
       "SIMPLE  =                    T / file does conform to FITS standard             \n",
       "BITPIX  =                  -64 / data type of original image                    \n",
       "NAXIS   =                    2 / dimension of original image                    \n",
       "NAXIS1  =                 1024 / length of original image axis                  \n",
       "NAXIS2  =                 1024 / length of original image axis                  \n",
       "PCOUNT  =                    0 / size of special data area                      \n",
       "GCOUNT  =                    1 / one data group (required keyword)              \n",
       "XTENSION= 'BINTABLE'           / binary table extension                         \n",
       "ORIGIN  = 'SDO/JSOC-SDP'                                                        \n",
       "DATE    = '2018-01-09T09:32:02'                                                 \n",
       "TELESCOP= 'SDO/AIA'                                                             \n",
       "INSTRUME= 'AIA_4'                                                               \n",
       "DATE-OBS= '2018-01-01T23:59:59.13'                                              \n",
       "T_OBS   = '2018-01-02T00:00:00.58Z'                                             \n",
       "T_REC   = '2018-01-02T00:00:01Z'                                                \n",
       "TRECSTEP= 180.000000                                                            \n",
       "TRECEPOC= '1977.01.01_00:00:00_TAI'                                             \n",
       "CAMERA  =                    4                                                  \n",
       "IMG_TYPE= 'LIGHT'                                                               \n",
       "EXPTIME = 2.900828                                                              \n",
       "EXPSDEV = 0.000173                                                              \n",
       "INT_TIME= 3.164062                                                              \n",
       "WAVELNTH=                   94                                                  \n",
       "WAVEUNIT= 'angstrom'                                                            \n",
       "WAVE_STR= '94_THIN'                                                             \n",
       "FSN     =            164461293                                                  \n",
       "FID     =                    0                                                  \n",
       "LVL_NUM = 1.500000                                                              \n",
       "QUALLEV0=                    0                                                  \n",
       "QUALITY =                    0                                                  \n",
       "TOTVALS =             16777216                                                  \n",
       "DATAVALS=             16777216                                                  \n",
       "MISSVALS=                    0                                                  \n",
       "PERCENTD= 100.00                                                                \n",
       "DATAMIN =                  -11                                                  \n",
       "DATAMAX =                  467                                                  \n",
       "DATAMEDN=                    1                                                  \n",
       "DATAMEAN= 1.05                                                                  \n",
       "DATARMS = 1.86                                                                  \n",
       "DATASKEW= 6.45                                                                  \n",
       "DATAKURT= 881.55                                                                \n",
       "OSCNMEAN= '-nan    '                                                            \n",
       "OSCNRMS = '-nan    '                                                            \n",
       "FLAT_REC= 'aia.flatfield[:#493]'                                                \n",
       "CTYPE1  = 'HPLN-TAN'                                                            \n",
       "CUNIT1  = 'arcsec'                                                              \n",
       "CRVAL1  = 0.000000                                                              \n",
       "CDELT1  = 2.400000                                                              \n",
       "CRPIX1  = 512.500000                                                            \n",
       "CTYPE2  = 'HPLT-TAN'                                                            \n",
       "CUNIT2  = 'arcsec'                                                              \n",
       "CRVAL2  = 0.000000                                                              \n",
       "CDELT2  = 2.400000                                                              \n",
       "CRPIX2  = 512.500000                                                            \n",
       "CROTA2  = 0.000000                                                              \n",
       "R_SUN   = 1626.469360                                                           \n",
       "MPO_REC = 'sdo.master_pointing[:#1092]'                                         \n",
       "INST_ROT= -0.137610                                                             \n",
       "IMSCL_MP= 0.600109                                                              \n",
       "X0_MP   = 2069.899902                                                           \n",
       "Y0_MP   = 2008.839966                                                           \n",
       "RSUN_LF = 'nan     '                                                            \n",
       "X0_LF   = 'nan     '                                                            \n",
       "Y0_LF   = 'nan     '                                                            \n",
       "ASD_REC = 'sdo.lev0_asd_0004[:#62496262]'                                       \n",
       "SAT_Y0  = -0.666354                                                             \n",
       "SAT_Z0  = 5.543066                                                              \n",
       "SAT_ROT = 0.000118                                                              \n",
       "ACS_MODE= 'SCIENCE'                                                             \n",
       "ACS_ECLP= 'NO'                                                                  \n",
       "ACS_SUNP= 'YES'                                                                 \n",
       "ACS_SAFE= 'NO'                                                                  \n",
       "ACS_CGT = 'GT3'                                                                 \n",
       "ORB_REC = 'sdo.fds_orbit_vectors[2018.01.02_00:00:00_UTC]'                      \n",
       "DSUN_REF= 149597870691.0                                                        \n",
       "DSUN_OBS= 147082150304.28                                                       \n",
       "RSUN_REF= 696000000.0                                                           \n",
       "RSUN_OBS= 976.058894                                                            \n",
       "GCIEC_X = 'nan     '                                                            \n",
       "GCIEC_Y = 'nan     '                                                            \n",
       "GCIEC_Z = 'nan     '                                                            \n",
       "HCIEC_X = 'nan     '                                                            \n",
       "HCIEC_Y = 'nan     '                                                            \n",
       "HCIEC_Z = 'nan     '                                                            \n",
       "OBS_VR  = 2169.252619                                                           \n",
       "OBS_VW  = 29572.418517                                                          \n",
       "OBS_VN  = -5550.497145                                                          \n",
       "CRLN_OBS= 332.877838                                                            \n",
       "CRLT_OBS= -3.122274                                                             \n",
       "CAR_ROT =                 2199                                                  \n",
       "ROI_NWIN=          -2147483648                                                  \n",
       "ROI_SUM =          -2147483648                                                  \n",
       "ROI_NAX1=          -2147483648                                                  \n",
       "ROI_NAY1=          -2147483648                                                  \n",
       "ROI_LLX1=          -2147483648                                                  \n",
       "ROI_LLY1=          -2147483648                                                  \n",
       "ROI_NAX2=          -2147483648                                                  \n",
       "ROI_NAY2=          -2147483648                                                  \n",
       "ROI_LLX2=          -2147483648                                                  \n",
       "ROI_LLY2=          -2147483648                                                  \n",
       "ISPSNAME= 'aia.lev0_isp_0011'                                                   \n",
       "ISPPKTIM= '2018-01-01T23:59:57.51Z'                                             \n",
       "ISPPKTVN= '001.197'                                                             \n",
       "AIVNMST =                  453                                                  \n",
       "AIMGOTS =           1893542437                                                  \n",
       "ASQHDR  =           3385686765                                                  \n",
       "ASQTNUM =                    3                                                  \n",
       "ASQFSN  =            164461293                                                  \n",
       "AIAHFSN =            164461285                                                  \n",
       "AECDELAY=                 1534                                                  \n",
       "AIAECTI =                    0                                                  \n",
       "AIASEN  =                    0                                                  \n",
       "AIFDBID =                  241                                                  \n",
       "AIMGOTSS=                13192                                                  \n",
       "AIFCPS  =                    4                                                  \n",
       "AIFTSWTH=                    0                                                  \n",
       "AIFRMLID=                 3255                                                  \n",
       "AIFTSID =                40960                                                  \n",
       "AIHISMXB=                    7                                                  \n",
       "AIHIS192=                    0                                                  \n",
       "AIHIS348=              8369441                                                  \n",
       "AIHIS604=              8387070                                                  \n",
       "AIHIS860=              8388608                                                  \n",
       "AIFWEN  =                  270                                                  \n",
       "AIMGSHCE=                 2900                                                  \n",
       "AECTYPE =                    0                                                  \n",
       "AECMODE = 'ON'                                                                  \n",
       "AISTATE = 'CLOSED'                                                              \n",
       "AIAECENF=                    1                                                  \n",
       "AIFILTYP=                    0                                                  \n",
       "AIMSHOBC= 40.456001                                                             \n",
       "AIMSHOBE= 25.360001                                                             \n",
       "AIMSHOTC= 54.271999                                                             \n",
       "AIMSHOTE= 67.779999                                                             \n",
       "AIMSHCBC= 2940.996094                                                           \n",
       "AIMSHCBE= 2926.219971                                                           \n",
       "AIMSHCTC= 2955.187988                                                           \n",
       "AIMSHCTE= 2968.775879                                                           \n",
       "AICFGDL1=                    0                                                  \n",
       "AICFGDL2=                   23                                                  \n",
       "AICFGDL3=                   87                                                  \n",
       "AICFGDL4=                  236                                                  \n",
       "AIFOENFL=                    1                                                  \n",
       "AIMGFSN =                    7                                                  \n",
       "AIMGTYP =                    0                                                  \n",
       "AIAWVLEN=                    9                                                  \n",
       "AIAGP1  =                    0                                                  \n",
       "AIAGP2  =                    0                                                  \n",
       "AIAGP3  =                    0                                                  \n",
       "AIAGP4  =                    0                                                  \n",
       "AIAGP5  =                    0                                                  \n",
       "AIAGP6  =                    0                                                  \n",
       "AIAGP7  =                    0                                                  \n",
       "AIAGP8  =                  279                                                  \n",
       "AIAGP9  =                  343                                                  \n",
       "AIAGP10 =                  748                                                  \n",
       "AGT1SVY =                   -9                                                  \n",
       "AGT1SVZ =                   -2                                                  \n",
       "AGT2SVY =                  -12                                                  \n",
       "AGT2SVZ =                  -12                                                  \n",
       "AGT3SVY =                   -2                                                  \n",
       "AGT3SVZ =                    1                                                  \n",
       "AGT4SVY =                   56                                                  \n",
       "AGT4SVZ =                  121                                                  \n",
       "AIMGSHEN=                    4                                                  \n",
       "RECNUM  =             18249166                                                  \n",
       "BLANK   =          -2147483648                                                  \n",
       "CHECKSUM= '8iZN9fZN8fZN8fZN'   / HDU checksum updated 2018-01-09T09:31:55       \n",
       "DATASUM = '2908584891'         / data unit checksum updated 2018-01-09T09:31:55 \n",
       "                                                                                \n",
       "                                                                                "
      ]
     },
     "execution_count": 31,
     "metadata": {},
     "output_type": "execute_result"
    }
   ],
   "source": [
    "file[1].header"
   ]
  },
  {
   "cell_type": "markdown",
   "metadata": {},
   "source": [
    "##### Note: Are you trying to graph something? What kind of data are you looking for? Since I'm not sure what your project is, this is probably the most that I can do haha. I'd love to help out in any way possible, though! Just keep me updated."
   ]
  },
  {
   "cell_type": "code",
   "execution_count": null,
   "metadata": {
    "collapsed": true
   },
   "outputs": [],
   "source": [
    "image_data = file[1]"
   ]
  }
 ],
 "metadata": {
  "kernelspec": {
   "display_name": "Python 3",
   "language": "python",
   "name": "python3"
  },
  "language_info": {
   "codemirror_mode": {
    "name": "ipython",
    "version": 3
   },
   "file_extension": ".py",
   "mimetype": "text/x-python",
   "name": "python",
   "nbconvert_exporter": "python",
   "pygments_lexer": "ipython3",
   "version": "3.6.3"
  }
 },
 "nbformat": 4,
 "nbformat_minor": 2
}
